{
  "nbformat": 4,
  "nbformat_minor": 0,
  "metadata": {
    "colab": {
      "provenance": []
    },
    "kernelspec": {
      "name": "python3",
      "display_name": "Python 3"
    },
    "language_info": {
      "name": "python"
    }
  },
  "cells": [
    {
      "cell_type": "code",
      "execution_count": null,
      "metadata": {
        "id": "n8oqxRL7o_a1"
      },
      "outputs": [],
      "source": [
        "#Fake News Detection using Python, TfidfVectorizer, and PassiveAggressiveClassifier\n",
        "import pandas as pd\n"
      ]
    },
    {
      "cell_type": "code",
      "source": [
        "# Import required libraries\n",
        "import pandas as pd\n",
        "from sklearn.feature_extraction.text import TfidfVectorizer\n",
        "from sklearn.model_selection import train_test_split\n",
        "from sklearn.linear_model import PassiveAggressiveClassifier\n",
        "from sklearn.metrics import accuracy_score, confusion_matrix\n",
        "import matplotlib.pyplot as plt\n",
        "import seaborn as sns"
      ],
      "metadata": {
        "id": "2hrOCVFIrjdz"
      },
      "execution_count": null,
      "outputs": []
    },
    {
      "cell_type": "code",
      "source": [
        "# Load the data\n",
        "# Adjust the file paths according to your Google Drive structure\n",
        "train_data = pd.read_csv('/content/train.csv')\n",
        "test_data = pd.read_csv('/content/test.csv')\n",
        "valid_data = pd.read_csv('/content/valid.csv')"
      ],
      "metadata": {
        "id": "hXqmobPEriVq"
      },
      "execution_count": null,
      "outputs": []
    },
    {
      "cell_type": "code",
      "source": [
        "# Display the first few rows of each dataset\n",
        "print(\"Train data:\")\n",
        "print(train_data.head())\n",
        "print(\"\\nTest data:\")\n",
        "print(test_data.head())\n",
        "print(\"\\nValidation data:\")\n",
        "print(valid_data.head())"
      ],
      "metadata": {
        "colab": {
          "base_uri": "https://localhost:8080/"
        },
        "id": "K71H_3Lot5Fm",
        "outputId": "c45aa60f-db08-45d3-f7db-69f9eb2ecb19"
      },
      "execution_count": null,
      "outputs": [
        {
          "output_type": "stream",
          "name": "stdout",
          "text": [
            "Train data:\n",
            "                                           Statement  Label\n",
            "0  Says the Annies List political group supports ...  False\n",
            "1  When did the decline of coal start? It started...   True\n",
            "2  Hillary Clinton agrees with John McCain \"by vo...   True\n",
            "3  Health care reform legislation is likely to ma...  False\n",
            "4  The economic turnaround started at the end of ...   True\n",
            "\n",
            "Test data:\n",
            "                                           Statement  Label\n",
            "0  Building a wall on the U.S.-Mexico border will...   True\n",
            "1  Wisconsin is on pace to double the number of l...  False\n",
            "2  Says John McCain has done nothing to help the ...  False\n",
            "3  Suzanne Bonamici supports a plan that will cut...   True\n",
            "4  When asked by a reporter whether hes at the ce...  False\n",
            "\n",
            "Validation data:\n",
            "                                           Statement  Label\n",
            "0  We have less Americans working now than in the...  FALSE\n",
            "1  When Obama was sworn into office, he DID NOT u...  FALSE\n",
            "2  Says Having organizations parading as being so...  FALSE\n",
            "3     Says nearly half of Oregons children are poor.   TRUE\n",
            "4  On attacks by Republicans that various program...   TRUE\n"
          ]
        }
      ]
    },
    {
      "cell_type": "code",
      "source": [
        "# Combine all data for preprocessing\n",
        "all_data = pd.concat([train_data, test_data, valid_data], ignore_index=True)\n"
      ],
      "metadata": {
        "id": "jJaXcvhAuJ1S"
      },
      "execution_count": null,
      "outputs": []
    },
    {
      "cell_type": "code",
      "source": [
        "# Preprocess the data\n",
        "all_data['Statement'] = all_data['Statement'].fillna('')\n",
        "all_data['Label'] = all_data['Label'].map({True: 1, False: 0})  # Convert boolean to int\n",
        "all_data = all_data.dropna()\n",
        "X = all_data['Statement']\n",
        "y = all_data['Label']"
      ],
      "metadata": {
        "id": "NsXGntJjuf0N"
      },
      "execution_count": null,
      "outputs": []
    },
    {
      "cell_type": "code",
      "source": [
        "X_train, X_test, y_train, y_test = train_test_split(X, y, test_size=0.2, random_state=42)"
      ],
      "metadata": {
        "id": "RlAJi7N87bRq"
      },
      "execution_count": null,
      "outputs": []
    },
    {
      "cell_type": "code",
      "source": [
        "# Initialize TfidfVectorizer\n",
        "tfidf_vectorizer = TfidfVectorizer(stop_words='english', max_df=0.7)"
      ],
      "metadata": {
        "id": "lHtE1ZLru3Nj"
      },
      "execution_count": null,
      "outputs": []
    },
    {
      "cell_type": "code",
      "source": [
        "# Fit and transform the training data\n",
        "tfidf_train = tfidf_vectorizer.fit_transform(X_train)\n",
        "tfidf_test = tfidf_vectorizer.transform(X_test)"
      ],
      "metadata": {
        "id": "O_f1CPlGu6P3"
      },
      "execution_count": null,
      "outputs": []
    },
    {
      "cell_type": "code",
      "source": [
        "print(tfidf_train)\n",
        "print(y_train)\n"
      ],
      "metadata": {
        "colab": {
          "base_uri": "https://localhost:8080/"
        },
        "id": "28lwpuTWyDmn",
        "outputId": "fd4cdfa2-7fda-4114-e081-a037a0aca14b"
      },
      "execution_count": null,
      "outputs": [
        {
          "output_type": "stream",
          "name": "stdout",
          "text": [
            "  (0, 8282)\t0.33858247725799673\n",
            "  (0, 8477)\t0.3885379211469287\n",
            "  (0, 6654)\t0.47526545266104725\n",
            "  (0, 2944)\t0.33306615000973544\n",
            "  (0, 8939)\t0.47526545266104725\n",
            "  (0, 6329)\t0.3191678513886951\n",
            "  (0, 10257)\t0.22481260693769184\n",
            "  (0, 9530)\t0.13893812672530106\n",
            "  (1, 11802)\t0.3309868325958572\n",
            "  (1, 8653)\t0.27994940193991796\n",
            "  (1, 8190)\t0.37060997967578685\n",
            "  (1, 8013)\t0.38144315759456654\n",
            "  (1, 3431)\t0.400681748180259\n",
            "  (1, 81)\t0.39114231536657273\n",
            "  (1, 5950)\t0.3322490559097796\n",
            "  (1, 9268)\t0.3244962251592333\n",
            "  (2, 6406)\t0.3973113508370196\n",
            "  (2, 6856)\t0.49785006077517563\n",
            "  (2, 7824)\t0.32577249304850947\n",
            "  (2, 11809)\t0.3013309713986174\n",
            "  (2, 2876)\t0.26407140858049566\n",
            "  (2, 3382)\t0.4478800774066445\n",
            "  (2, 11250)\t0.26753025824112053\n",
            "  (2, 10257)\t0.23549569908835233\n",
            "  (3, 3138)\t0.28206818214405893\n",
            "  :\t:\n",
            "  (10229, 2502)\t0.2444762410353304\n",
            "  (10229, 1532)\t0.2545522885777876\n",
            "  (10229, 2329)\t0.2404100480979334\n",
            "  (10229, 6838)\t0.23679664497247113\n",
            "  (10229, 1268)\t0.2241992506729909\n",
            "  (10229, 9843)\t0.2576486440290469\n",
            "  (10229, 10771)\t0.13964529838786113\n",
            "  (10230, 2724)\t0.5325673067113458\n",
            "  (10230, 9034)\t0.3744078650695143\n",
            "  (10230, 11006)\t0.3626118849544412\n",
            "  (10230, 6954)\t0.33409589070336854\n",
            "  (10230, 7907)\t0.315312885468824\n",
            "  (10230, 8182)\t0.2646200441719172\n",
            "  (10230, 3416)\t0.289720247260353\n",
            "  (10230, 4972)\t0.2823111154531442\n",
            "  (10231, 10719)\t0.4193082529575431\n",
            "  (10231, 2833)\t0.358378388893918\n",
            "  (10231, 11340)\t0.3888433209257306\n",
            "  (10231, 2533)\t0.30657460845655526\n",
            "  (10231, 3866)\t0.32273670324265985\n",
            "  (10231, 9238)\t0.31596153324225473\n",
            "  (10231, 8819)\t0.2094431580952503\n",
            "  (10231, 5731)\t0.3203603620162304\n",
            "  (10231, 4870)\t0.2744509283852182\n",
            "  (10231, 10251)\t0.1573124927408006\n",
            "8296     1.0\n",
            "7937     1.0\n",
            "10553    1.0\n",
            "6508     0.0\n",
            "4028     1.0\n",
            "        ... \n",
            "11964    1.0\n",
            "5191     1.0\n",
            "5390     0.0\n",
            "860      0.0\n",
            "7270     0.0\n",
            "Name: Label, Length: 10232, dtype: float64\n"
          ]
        }
      ]
    },
    {
      "cell_type": "code",
      "source": [
        "# Initialize PassiveAggressiveClassifier\n",
        "pac = PassiveAggressiveClassifier(max_iter=50)\n",
        "pac.fit(tfidf_train, y_train)"
      ],
      "metadata": {
        "colab": {
          "base_uri": "https://localhost:8080/",
          "height": 131
        },
        "id": "O0ZPh_Az1Kur",
        "outputId": "9caeab1d-8891-4de2-a848-b3f42862889a"
      },
      "execution_count": null,
      "outputs": [
        {
          "output_type": "stream",
          "name": "stderr",
          "text": [
            "/usr/local/lib/python3.10/dist-packages/sklearn/linear_model/_stochastic_gradient.py:702: ConvergenceWarning: Maximum number of iteration reached before convergence. Consider increasing max_iter to improve the fit.\n",
            "  warnings.warn(\n"
          ]
        },
        {
          "output_type": "execute_result",
          "data": {
            "text/plain": [
              "PassiveAggressiveClassifier(max_iter=50)"
            ],
            "text/html": [
              "<style>#sk-container-id-1 {color: black;background-color: white;}#sk-container-id-1 pre{padding: 0;}#sk-container-id-1 div.sk-toggleable {background-color: white;}#sk-container-id-1 label.sk-toggleable__label {cursor: pointer;display: block;width: 100%;margin-bottom: 0;padding: 0.3em;box-sizing: border-box;text-align: center;}#sk-container-id-1 label.sk-toggleable__label-arrow:before {content: \"▸\";float: left;margin-right: 0.25em;color: #696969;}#sk-container-id-1 label.sk-toggleable__label-arrow:hover:before {color: black;}#sk-container-id-1 div.sk-estimator:hover label.sk-toggleable__label-arrow:before {color: black;}#sk-container-id-1 div.sk-toggleable__content {max-height: 0;max-width: 0;overflow: hidden;text-align: left;background-color: #f0f8ff;}#sk-container-id-1 div.sk-toggleable__content pre {margin: 0.2em;color: black;border-radius: 0.25em;background-color: #f0f8ff;}#sk-container-id-1 input.sk-toggleable__control:checked~div.sk-toggleable__content {max-height: 200px;max-width: 100%;overflow: auto;}#sk-container-id-1 input.sk-toggleable__control:checked~label.sk-toggleable__label-arrow:before {content: \"▾\";}#sk-container-id-1 div.sk-estimator input.sk-toggleable__control:checked~label.sk-toggleable__label {background-color: #d4ebff;}#sk-container-id-1 div.sk-label input.sk-toggleable__control:checked~label.sk-toggleable__label {background-color: #d4ebff;}#sk-container-id-1 input.sk-hidden--visually {border: 0;clip: rect(1px 1px 1px 1px);clip: rect(1px, 1px, 1px, 1px);height: 1px;margin: -1px;overflow: hidden;padding: 0;position: absolute;width: 1px;}#sk-container-id-1 div.sk-estimator {font-family: monospace;background-color: #f0f8ff;border: 1px dotted black;border-radius: 0.25em;box-sizing: border-box;margin-bottom: 0.5em;}#sk-container-id-1 div.sk-estimator:hover {background-color: #d4ebff;}#sk-container-id-1 div.sk-parallel-item::after {content: \"\";width: 100%;border-bottom: 1px solid gray;flex-grow: 1;}#sk-container-id-1 div.sk-label:hover label.sk-toggleable__label {background-color: #d4ebff;}#sk-container-id-1 div.sk-serial::before {content: \"\";position: absolute;border-left: 1px solid gray;box-sizing: border-box;top: 0;bottom: 0;left: 50%;z-index: 0;}#sk-container-id-1 div.sk-serial {display: flex;flex-direction: column;align-items: center;background-color: white;padding-right: 0.2em;padding-left: 0.2em;position: relative;}#sk-container-id-1 div.sk-item {position: relative;z-index: 1;}#sk-container-id-1 div.sk-parallel {display: flex;align-items: stretch;justify-content: center;background-color: white;position: relative;}#sk-container-id-1 div.sk-item::before, #sk-container-id-1 div.sk-parallel-item::before {content: \"\";position: absolute;border-left: 1px solid gray;box-sizing: border-box;top: 0;bottom: 0;left: 50%;z-index: -1;}#sk-container-id-1 div.sk-parallel-item {display: flex;flex-direction: column;z-index: 1;position: relative;background-color: white;}#sk-container-id-1 div.sk-parallel-item:first-child::after {align-self: flex-end;width: 50%;}#sk-container-id-1 div.sk-parallel-item:last-child::after {align-self: flex-start;width: 50%;}#sk-container-id-1 div.sk-parallel-item:only-child::after {width: 0;}#sk-container-id-1 div.sk-dashed-wrapped {border: 1px dashed gray;margin: 0 0.4em 0.5em 0.4em;box-sizing: border-box;padding-bottom: 0.4em;background-color: white;}#sk-container-id-1 div.sk-label label {font-family: monospace;font-weight: bold;display: inline-block;line-height: 1.2em;}#sk-container-id-1 div.sk-label-container {text-align: center;}#sk-container-id-1 div.sk-container {/* jupyter's `normalize.less` sets `[hidden] { display: none; }` but bootstrap.min.css set `[hidden] { display: none !important; }` so we also need the `!important` here to be able to override the default hidden behavior on the sphinx rendered scikit-learn.org. See: https://github.com/scikit-learn/scikit-learn/issues/21755 */display: inline-block !important;position: relative;}#sk-container-id-1 div.sk-text-repr-fallback {display: none;}</style><div id=\"sk-container-id-1\" class=\"sk-top-container\"><div class=\"sk-text-repr-fallback\"><pre>PassiveAggressiveClassifier(max_iter=50)</pre><b>In a Jupyter environment, please rerun this cell to show the HTML representation or trust the notebook. <br />On GitHub, the HTML representation is unable to render, please try loading this page with nbviewer.org.</b></div><div class=\"sk-container\" hidden><div class=\"sk-item\"><div class=\"sk-estimator sk-toggleable\"><input class=\"sk-toggleable__control sk-hidden--visually\" id=\"sk-estimator-id-1\" type=\"checkbox\" checked><label for=\"sk-estimator-id-1\" class=\"sk-toggleable__label sk-toggleable__label-arrow\">PassiveAggressiveClassifier</label><div class=\"sk-toggleable__content\"><pre>PassiveAggressiveClassifier(max_iter=50)</pre></div></div></div></div></div>"
            ]
          },
          "metadata": {},
          "execution_count": 77
        }
      ]
    },
    {
      "cell_type": "code",
      "source": [
        "# Make predictions\n",
        "y_pred = pac.predict(tfidf_test)"
      ],
      "metadata": {
        "id": "nikbSMm_14ZR"
      },
      "execution_count": null,
      "outputs": []
    },
    {
      "cell_type": "code",
      "source": [
        "# Calculate accuracy\n",
        "accuracy = accuracy_score(y_test, y_pred)\n",
        "print(f'Accuracy: {accuracy:.2f}')"
      ],
      "metadata": {
        "colab": {
          "base_uri": "https://localhost:8080/"
        },
        "id": "OqbBTq9_8jJg",
        "outputId": "98914fd6-a1d0-43f8-8739-162c647cb12a"
      },
      "execution_count": null,
      "outputs": [
        {
          "output_type": "stream",
          "name": "stdout",
          "text": [
            "Accuracy: 0.57\n"
          ]
        }
      ]
    },
    {
      "cell_type": "code",
      "source": [
        "# Calculate and display confusion matrix\n",
        "conf_matrix = confusion_matrix(y_test, y_pred)\n",
        "plt.figure(figsize=(10,7))\n",
        "sns.heatmap(conf_matrix, annot=True, fmt='d', cmap='Blues')\n",
        "plt.title('Confusion Matrix')\n",
        "plt.xlabel('Predicted')\n",
        "plt.ylabel('Actual')\n",
        "plt.show()\n"
      ],
      "metadata": {
        "colab": {
          "base_uri": "https://localhost:8080/",
          "height": 641
        },
        "id": "_ZkQvNtk8oYz",
        "outputId": "724f8b51-7051-4fd5-8cd9-461ddc797317"
      },
      "execution_count": null,
      "outputs": [
        {
          "output_type": "display_data",
          "data": {
            "text/plain": [
              "<Figure size 1000x700 with 2 Axes>"
            ],
            "image/png": "[encoded data removed]"
          },
          "metadata": {}
        }
      ]
    },
    {
      "cell_type": "code",
      "source": [
        "# Function to predict if a news article is fake or real\n",
        "def predict_news(news_text):\n",
        "    tfidf_news = tfidf_vectorizer.transform([news_text])\n",
        "    prediction = pac.predict(tfidf_news)\n",
        "    return \"Fake\" if prediction[0] == 0 else \"Real\"\n"
      ],
      "metadata": {
        "id": "I48hSEHR8yIm"
      },
      "execution_count": null,
      "outputs": []
    },
    {
      "cell_type": "code",
      "source": [
        "# Example usage\n",
        "example_news = \"Building a wall on the U.S.-Mexico border will take literally years.\"\n",
        "result = predict_news(example_news)\n",
        "print(f\"Prediction for the example news: {result}\")"
      ],
      "metadata": {
        "colab": {
          "base_uri": "https://localhost:8080/"
        },
        "id": "zbu63EdU84Jx",
        "outputId": "b677e721-8525-4476-f880-2112af3a8fd5"
      },
      "execution_count": null,
      "outputs": [
        {
          "output_type": "stream",
          "name": "stdout",
          "text": [
            "Prediction for the example news: Real\n"
          ]
        }
      ]
    },
    {
      "cell_type": "code",
      "source": [
        "# Interactive prediction\n",
        "while True:\n",
        "    user_input = input(\"Enter a news headline (or 'quit' to exit): \")\n",
        "    if user_input.lower() == 'quit':\n",
        "        break\n",
        "    prediction = predict_news(user_input)\n",
        "    print(f\"Prediction: {prediction}\")\n",
        "\n",
        "print(\"Thank you for using the Fake News Detector!\")"
      ],
      "metadata": {
        "colab": {
          "base_uri": "https://localhost:8080/"
        },
        "id": "Zwjb3Exg9CBE",
        "outputId": "219d27a8-1635-4054-ff49-65a69edcb25c"
      },
      "execution_count": null,
      "outputs": [
        {
          "output_type": "stream",
          "name": "stdout",
          "text": [
            "Enter a news headline (or 'quit' to exit): exist\n",
            "Prediction: Fake\n",
            "Enter a news headline (or 'quit' to exit): quit\n",
            "Thank you for using the Fake News Detector!\n"
          ]
        }
      ]
    }
  ]
}